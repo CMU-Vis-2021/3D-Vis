{
 "cells": [
  {
   "cell_type": "code",
   "execution_count": 4,
   "id": "344066a3",
   "metadata": {},
   "outputs": [],
   "source": [
    "import pandas as pd\n",
    "import psycopg2 as pg2\n",
    "con = pg2.connect(database='postgres', user='isdb')\n",
    "con.autocommit = True\n",
    "cur = con.cursor()\n",
    "sql_query = pd.read_sql_query(\n",
    "'''\n",
    "SELECT *\n",
    " FROM fires as f JOIN incidentSum as i\n",
    " ON f.incident_type = i.incident_type AND f.type_description = i.type_description AND f.year = i.year;'''\n",
    "                              ,con)\n",
    "\n",
    "# here, the 'conn' is the variable that contains your database connection information from step 2\n",
    "\n",
    "df = pd.DataFrame(sql_query)\n",
    "df.to_csv ('joinedTable.csv', index = False) # place 'r' before the path name"
   ]
  },
  {
   "cell_type": "code",
   "execution_count": 20,
   "id": "4127640c",
   "metadata": {},
   "outputs": [],
   "source": [
    "import pandas as pd\n",
    "import psycopg2 as pg2\n",
    "con = pg2.connect(database='postgres', user='isdb')\n",
    "con.autocommit = True\n",
    "cur = con.cursor()\n",
    "sql_query = pd.read_sql_query(\n",
    "'''\n",
    "SELECT *\n",
    " FROM joined as j INNER JOIN totalPerNeigh as t\n",
    " ON j.year = t.year AND j.neighborhood = t.neighborhood;'''\n",
    "                              ,con)\n",
    "\n",
    "# here, the 'conn' is the variable that contains your database connection information from step 2\n",
    "\n",
    "df = pd.DataFrame(sql_query)\n",
    "df.to_csv ('NEWjoinedTable.csv', index = False) # place 'r' before the path name"
   ]
  },
  {
   "cell_type": "code",
   "execution_count": null,
   "id": "a1e721ff",
   "metadata": {},
   "outputs": [],
   "source": []
  }
 ],
 "metadata": {
  "kernelspec": {
   "display_name": "Python 3 (ipykernel)",
   "language": "python",
   "name": "python3"
  },
  "language_info": {
   "codemirror_mode": {
    "name": "ipython",
    "version": 3
   },
   "file_extension": ".py",
   "mimetype": "text/x-python",
   "name": "python",
   "nbconvert_exporter": "python",
   "pygments_lexer": "ipython3",
   "version": "3.8.10"
  }
 },
 "nbformat": 4,
 "nbformat_minor": 5
}
